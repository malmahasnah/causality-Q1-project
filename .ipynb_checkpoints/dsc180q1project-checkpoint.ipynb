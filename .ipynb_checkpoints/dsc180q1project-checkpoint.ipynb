{
 "cells": [
  {
   "cell_type": "code",
   "execution_count": 1,
   "id": "ef8d684a",
   "metadata": {},
   "outputs": [],
   "source": [
    "import pandas as pd\n",
    "import numpy as np\n",
    "import networkx as nx\n",
    "import matplotlib.pyplot as plt\n",
    "\n",
    "import plotly.graph_objects as go\n",
    "import us  # Import the us library\n",
    "\n",
    "from causallearn.search.ConstraintBased.PC import pc\n"
   ]
  },
  {
   "cell_type": "code",
   "execution_count": 2,
   "id": "181bc791",
   "metadata": {},
   "outputs": [
    {
     "ename": "FileNotFoundError",
     "evalue": "[Errno 2] No such file or directory: 'data/online_shoppers_intention.csv'",
     "output_type": "error",
     "traceback": [
      "\u001b[1;31m---------------------------------------------------------------------------\u001b[0m",
      "\u001b[1;31mFileNotFoundError\u001b[0m                         Traceback (most recent call last)",
      "\u001b[1;32m~\\AppData\\Local\\Temp\\ipykernel_16304\\154192336.py\u001b[0m in \u001b[0;36m<module>\u001b[1;34m\u001b[0m\n\u001b[1;32m----> 1\u001b[1;33m \u001b[0mshopper_intent\u001b[0m \u001b[1;33m=\u001b[0m \u001b[0mpd\u001b[0m\u001b[1;33m.\u001b[0m\u001b[0mread_csv\u001b[0m\u001b[1;33m(\u001b[0m\u001b[1;34m\"data/online_shoppers_intention.csv\"\u001b[0m\u001b[1;33m)\u001b[0m\u001b[1;33m\u001b[0m\u001b[1;33m\u001b[0m\u001b[0m\n\u001b[0m\u001b[0;32m      2\u001b[0m \u001b[0mshopper_intent\u001b[0m\u001b[1;33m\u001b[0m\u001b[1;33m\u001b[0m\u001b[0m\n",
      "\u001b[1;32m~\\anaconda3\\lib\\site-packages\\pandas\\util\\_decorators.py\u001b[0m in \u001b[0;36mwrapper\u001b[1;34m(*args, **kwargs)\u001b[0m\n\u001b[0;32m    309\u001b[0m                     \u001b[0mstacklevel\u001b[0m\u001b[1;33m=\u001b[0m\u001b[0mstacklevel\u001b[0m\u001b[1;33m,\u001b[0m\u001b[1;33m\u001b[0m\u001b[1;33m\u001b[0m\u001b[0m\n\u001b[0;32m    310\u001b[0m                 )\n\u001b[1;32m--> 311\u001b[1;33m             \u001b[1;32mreturn\u001b[0m \u001b[0mfunc\u001b[0m\u001b[1;33m(\u001b[0m\u001b[1;33m*\u001b[0m\u001b[0margs\u001b[0m\u001b[1;33m,\u001b[0m \u001b[1;33m**\u001b[0m\u001b[0mkwargs\u001b[0m\u001b[1;33m)\u001b[0m\u001b[1;33m\u001b[0m\u001b[1;33m\u001b[0m\u001b[0m\n\u001b[0m\u001b[0;32m    312\u001b[0m \u001b[1;33m\u001b[0m\u001b[0m\n\u001b[0;32m    313\u001b[0m         \u001b[1;32mreturn\u001b[0m \u001b[0mwrapper\u001b[0m\u001b[1;33m\u001b[0m\u001b[1;33m\u001b[0m\u001b[0m\n",
      "\u001b[1;32m~\\anaconda3\\lib\\site-packages\\pandas\\io\\parsers\\readers.py\u001b[0m in \u001b[0;36mread_csv\u001b[1;34m(filepath_or_buffer, sep, delimiter, header, names, index_col, usecols, squeeze, prefix, mangle_dupe_cols, dtype, engine, converters, true_values, false_values, skipinitialspace, skiprows, skipfooter, nrows, na_values, keep_default_na, na_filter, verbose, skip_blank_lines, parse_dates, infer_datetime_format, keep_date_col, date_parser, dayfirst, cache_dates, iterator, chunksize, compression, thousands, decimal, lineterminator, quotechar, quoting, doublequote, escapechar, comment, encoding, encoding_errors, dialect, error_bad_lines, warn_bad_lines, on_bad_lines, delim_whitespace, low_memory, memory_map, float_precision, storage_options)\u001b[0m\n\u001b[0;32m    676\u001b[0m     \u001b[0mkwds\u001b[0m\u001b[1;33m.\u001b[0m\u001b[0mupdate\u001b[0m\u001b[1;33m(\u001b[0m\u001b[0mkwds_defaults\u001b[0m\u001b[1;33m)\u001b[0m\u001b[1;33m\u001b[0m\u001b[1;33m\u001b[0m\u001b[0m\n\u001b[0;32m    677\u001b[0m \u001b[1;33m\u001b[0m\u001b[0m\n\u001b[1;32m--> 678\u001b[1;33m     \u001b[1;32mreturn\u001b[0m \u001b[0m_read\u001b[0m\u001b[1;33m(\u001b[0m\u001b[0mfilepath_or_buffer\u001b[0m\u001b[1;33m,\u001b[0m \u001b[0mkwds\u001b[0m\u001b[1;33m)\u001b[0m\u001b[1;33m\u001b[0m\u001b[1;33m\u001b[0m\u001b[0m\n\u001b[0m\u001b[0;32m    679\u001b[0m \u001b[1;33m\u001b[0m\u001b[0m\n\u001b[0;32m    680\u001b[0m \u001b[1;33m\u001b[0m\u001b[0m\n",
      "\u001b[1;32m~\\anaconda3\\lib\\site-packages\\pandas\\io\\parsers\\readers.py\u001b[0m in \u001b[0;36m_read\u001b[1;34m(filepath_or_buffer, kwds)\u001b[0m\n\u001b[0;32m    573\u001b[0m \u001b[1;33m\u001b[0m\u001b[0m\n\u001b[0;32m    574\u001b[0m     \u001b[1;31m# Create the parser.\u001b[0m\u001b[1;33m\u001b[0m\u001b[1;33m\u001b[0m\u001b[0m\n\u001b[1;32m--> 575\u001b[1;33m     \u001b[0mparser\u001b[0m \u001b[1;33m=\u001b[0m \u001b[0mTextFileReader\u001b[0m\u001b[1;33m(\u001b[0m\u001b[0mfilepath_or_buffer\u001b[0m\u001b[1;33m,\u001b[0m \u001b[1;33m**\u001b[0m\u001b[0mkwds\u001b[0m\u001b[1;33m)\u001b[0m\u001b[1;33m\u001b[0m\u001b[1;33m\u001b[0m\u001b[0m\n\u001b[0m\u001b[0;32m    576\u001b[0m \u001b[1;33m\u001b[0m\u001b[0m\n\u001b[0;32m    577\u001b[0m     \u001b[1;32mif\u001b[0m \u001b[0mchunksize\u001b[0m \u001b[1;32mor\u001b[0m \u001b[0miterator\u001b[0m\u001b[1;33m:\u001b[0m\u001b[1;33m\u001b[0m\u001b[1;33m\u001b[0m\u001b[0m\n",
      "\u001b[1;32m~\\anaconda3\\lib\\site-packages\\pandas\\io\\parsers\\readers.py\u001b[0m in \u001b[0;36m__init__\u001b[1;34m(self, f, engine, **kwds)\u001b[0m\n\u001b[0;32m    930\u001b[0m \u001b[1;33m\u001b[0m\u001b[0m\n\u001b[0;32m    931\u001b[0m         \u001b[0mself\u001b[0m\u001b[1;33m.\u001b[0m\u001b[0mhandles\u001b[0m\u001b[1;33m:\u001b[0m \u001b[0mIOHandles\u001b[0m \u001b[1;33m|\u001b[0m \u001b[1;32mNone\u001b[0m \u001b[1;33m=\u001b[0m \u001b[1;32mNone\u001b[0m\u001b[1;33m\u001b[0m\u001b[1;33m\u001b[0m\u001b[0m\n\u001b[1;32m--> 932\u001b[1;33m         \u001b[0mself\u001b[0m\u001b[1;33m.\u001b[0m\u001b[0m_engine\u001b[0m \u001b[1;33m=\u001b[0m \u001b[0mself\u001b[0m\u001b[1;33m.\u001b[0m\u001b[0m_make_engine\u001b[0m\u001b[1;33m(\u001b[0m\u001b[0mf\u001b[0m\u001b[1;33m,\u001b[0m \u001b[0mself\u001b[0m\u001b[1;33m.\u001b[0m\u001b[0mengine\u001b[0m\u001b[1;33m)\u001b[0m\u001b[1;33m\u001b[0m\u001b[1;33m\u001b[0m\u001b[0m\n\u001b[0m\u001b[0;32m    933\u001b[0m \u001b[1;33m\u001b[0m\u001b[0m\n\u001b[0;32m    934\u001b[0m     \u001b[1;32mdef\u001b[0m \u001b[0mclose\u001b[0m\u001b[1;33m(\u001b[0m\u001b[0mself\u001b[0m\u001b[1;33m)\u001b[0m\u001b[1;33m:\u001b[0m\u001b[1;33m\u001b[0m\u001b[1;33m\u001b[0m\u001b[0m\n",
      "\u001b[1;32m~\\anaconda3\\lib\\site-packages\\pandas\\io\\parsers\\readers.py\u001b[0m in \u001b[0;36m_make_engine\u001b[1;34m(self, f, engine)\u001b[0m\n\u001b[0;32m   1214\u001b[0m             \u001b[1;31m# \"Union[str, PathLike[str], ReadCsvBuffer[bytes], ReadCsvBuffer[str]]\"\u001b[0m\u001b[1;33m\u001b[0m\u001b[1;33m\u001b[0m\u001b[0m\n\u001b[0;32m   1215\u001b[0m             \u001b[1;31m# , \"str\", \"bool\", \"Any\", \"Any\", \"Any\", \"Any\", \"Any\"\u001b[0m\u001b[1;33m\u001b[0m\u001b[1;33m\u001b[0m\u001b[0m\n\u001b[1;32m-> 1216\u001b[1;33m             self.handles = get_handle(  # type: ignore[call-overload]\n\u001b[0m\u001b[0;32m   1217\u001b[0m                 \u001b[0mf\u001b[0m\u001b[1;33m,\u001b[0m\u001b[1;33m\u001b[0m\u001b[1;33m\u001b[0m\u001b[0m\n\u001b[0;32m   1218\u001b[0m                 \u001b[0mmode\u001b[0m\u001b[1;33m,\u001b[0m\u001b[1;33m\u001b[0m\u001b[1;33m\u001b[0m\u001b[0m\n",
      "\u001b[1;32m~\\anaconda3\\lib\\site-packages\\pandas\\io\\common.py\u001b[0m in \u001b[0;36mget_handle\u001b[1;34m(path_or_buf, mode, encoding, compression, memory_map, is_text, errors, storage_options)\u001b[0m\n\u001b[0;32m    784\u001b[0m         \u001b[1;32mif\u001b[0m \u001b[0mioargs\u001b[0m\u001b[1;33m.\u001b[0m\u001b[0mencoding\u001b[0m \u001b[1;32mand\u001b[0m \u001b[1;34m\"b\"\u001b[0m \u001b[1;32mnot\u001b[0m \u001b[1;32min\u001b[0m \u001b[0mioargs\u001b[0m\u001b[1;33m.\u001b[0m\u001b[0mmode\u001b[0m\u001b[1;33m:\u001b[0m\u001b[1;33m\u001b[0m\u001b[1;33m\u001b[0m\u001b[0m\n\u001b[0;32m    785\u001b[0m             \u001b[1;31m# Encoding\u001b[0m\u001b[1;33m\u001b[0m\u001b[1;33m\u001b[0m\u001b[0m\n\u001b[1;32m--> 786\u001b[1;33m             handle = open(\n\u001b[0m\u001b[0;32m    787\u001b[0m                 \u001b[0mhandle\u001b[0m\u001b[1;33m,\u001b[0m\u001b[1;33m\u001b[0m\u001b[1;33m\u001b[0m\u001b[0m\n\u001b[0;32m    788\u001b[0m                 \u001b[0mioargs\u001b[0m\u001b[1;33m.\u001b[0m\u001b[0mmode\u001b[0m\u001b[1;33m,\u001b[0m\u001b[1;33m\u001b[0m\u001b[1;33m\u001b[0m\u001b[0m\n",
      "\u001b[1;31mFileNotFoundError\u001b[0m: [Errno 2] No such file or directory: 'data/online_shoppers_intention.csv'"
     ]
    }
   ],
   "source": [
    "shopper_intent = pd.read_csv(\"datonline_shoppers_intention.csv\")\n",
    "shopper_intent"
   ]
  },
  {
   "cell_type": "code",
   "execution_count": null,
   "id": "da3309fb",
   "metadata": {},
   "outputs": [],
   "source": [
    "shopper_intent.dtypes"
   ]
  },
  {
   "cell_type": "code",
   "execution_count": null,
   "id": "3385860a",
   "metadata": {},
   "outputs": [],
   "source": [
    "shopper_intent['SpecialDay'].max()"
   ]
  },
  {
   "cell_type": "code",
   "execution_count": null,
   "id": "c2e384e4",
   "metadata": {},
   "outputs": [],
   "source": [
    "shopper_intent['Revenue'] = shopper_intent['Revenue'].astype(int)\n",
    "shopper_intent['Weekend'] = shopper_intent['Weekend'].astype(int)"
   ]
  },
  {
   "cell_type": "code",
   "execution_count": null,
   "id": "9f37d1f1",
   "metadata": {
    "scrolled": true
   },
   "outputs": [],
   "source": [
    "data_graph = shopper_intent.drop(['Month'], axis=1)"
   ]
  },
  {
   "cell_type": "code",
   "execution_count": null,
   "id": "970450a6",
   "metadata": {},
   "outputs": [],
   "source": [
    "columns_to_use = [\n",
    "    'SpecialDay', 'Revenue', 'BounceRates', 'ExitRates',\n",
    "    'Weekend', 'Administrative', 'Administrative_Duration',\n",
    "    'Informational', 'Informational_Duration', 'ProductRelated',\n",
    "    'ProductRelated_Duration', 'OperatingSystems', 'Browser', 'Region',\n",
    "    'TrafficType','PageValues',\n",
    "    'VisitorType_Other', 'VisitorType_Returning_Visitor'\n",
    "]"
   ]
  },
  {
   "cell_type": "code",
   "execution_count": null,
   "id": "cb381648",
   "metadata": {},
   "outputs": [],
   "source": [
    "data_encoded = pd.get_dummies(data_graph, drop_first=True)\n",
    "data_encoded"
   ]
  },
  {
   "cell_type": "code",
   "execution_count": null,
   "id": "a5cb8438",
   "metadata": {},
   "outputs": [],
   "source": [
    "# takes a long time to run\n",
    "data_frame = data_encoded\n",
    "# Step 1: Convert DataFrame to NumPy array>\n",
    "data_array = data_frame.to_numpy()\n",
    "\n",
    "# Step 2: Apply the PC algorithm to discover the causal graph\n",
    "alpha = 0.05  # Significance level\n",
    "pc_graph = pc(data_array, alpha)\n",
    "\n",
    "# Step 3: Create labels for nodes based on DataFrame columns\n",
    "node_labels = {i: col for i, col in enumerate(data_encoded.columns)}\n",
    "\n",
    "# Step 4: Extract edges from the pc_graph and create a NetworkX directed graph\n",
    "G = nx.DiGraph()\n",
    "G.add_nodes_from(node_labels.keys())\n",
    "\n",
    "# Add edges based on the adjacency matrix\n",
    "for i in range(len(pc_graph.G.graph)):\n",
    "    for j in range(len(pc_graph.G.graph)):\n",
    "        if pc_graph.G.graph[i, j] != 0:  # Check for an edge\n",
    "            if pc_graph.G.graph[j, i] == 1 and pc_graph.G.graph[i, j] == -1:\n",
    "                # Case: i -> j\n",
    "                G.add_edge(i, j, edge_type='directed')\n",
    "            elif pc_graph.G.graph[j, i] == -1 and pc_graph.G.graph[i, j] == -1:\n",
    "                # Case: i -- j (undirected)\n",
    "                G.add_edge(i, j, edge_type='undirected')\n",
    "            elif pc_graph.G.graph[j, i] == 1 and pc_graph.G.graph[i, j] == 1:\n",
    "                # Case: i <-> j (bidirectional)\n",
    "                G.add_edge(i, j, edge_type='bidirectional')"
   ]
  },
  {
   "cell_type": "code",
   "execution_count": null,
   "id": "b1f11f7b",
   "metadata": {},
   "outputs": [],
   "source": [
    "# Step 5: Plot the graph\n",
    "plt.figure(figsize=(10, 8))\n",
    "pos = nx.spring_layout(G, k=0.5, iterations=50)  # Increase k for more space between nodes\n",
    "nx.draw(G, pos, with_labels=True, labels=node_labels, node_size=1000, node_color=\"skyblue\", font_size=7, font_weight=\"bold\", arrowstyle=\"->\", arrowsize=20)\n",
    "plt.title(\"Inferred Causal Graph\")\n",
    "plt.show()"
   ]
  },
  {
   "cell_type": "code",
   "execution_count": null,
   "id": "f9652b61",
   "metadata": {},
   "outputs": [],
   "source": [
    "import networkx as nx\n",
    "\n",
    "# Find the index of the \"Revenue\" node\n",
    "revenue_index = list(data_encoded.columns).index(\"Revenue\")\n",
    "\n",
    "# Get the adjacency matrix from the CausalGraph object\n",
    "graph_matrix = pc_graph.G.graph  # Assuming this is a NumPy array or similar\n",
    "\n",
    "# Initialize sets for storing related nodes\n",
    "revenue_related = {revenue_index}  # Include \"Revenue\" itself\n",
    "edges = []  # List to store edges\n",
    "\n",
    "# First Loop: Find direct relationships (parents, children, spouses)\n",
    "for j in range(graph_matrix.shape[0]):\n",
    "    if j == revenue_index:\n",
    "        continue  # Skip self-loops\n",
    "\n",
    "    if graph_matrix[j, revenue_index] == 1 and graph_matrix[revenue_index, j] == -1:\n",
    "        # Directed edge (Revenue → j)\n",
    "        revenue_related.add(j)\n",
    "        edges.append((revenue_index, j))  # Directed edge Revenue → j\n",
    "    elif graph_matrix[revenue_index, j] == 1 and graph_matrix[j, revenue_index] == -1:\n",
    "        # Directed edge (j → Revenue)\n",
    "        revenue_related.add(j)\n",
    "        edges.append((j, revenue_index))  # Directed edge j → Revenue\n",
    "    elif graph_matrix[j, revenue_index] == -1 and graph_matrix[revenue_index, j] == -1:\n",
    "        # Undirected relationship (Revenue — j)\n",
    "        revenue_related.add(j)\n",
    "        edges.append((revenue_index, j))  # Undirected edge\n",
    "    elif graph_matrix[j, revenue_index] == 1 and graph_matrix[revenue_index, j] == 1:\n",
    "        # Bidirectional relationship (Revenue ↔ j)\n",
    "        revenue_related.add(j)\n",
    "        edges.append((revenue_index, j))  # Bidirectional edge\n",
    "\n",
    "# Second Loop: Find secondary relationships (spouses of Revenue's related nodes)\n",
    "for related_node in list(revenue_related):\n",
    "    for j in range(graph_matrix.shape[0]):\n",
    "        if j == related_node or j in revenue_related:\n",
    "            continue  # Skip self-loops and already identified nodes\n",
    "\n",
    "        if graph_matrix[j, related_node] == 1 and graph_matrix[related_node, j] == -1:\n",
    "            # Directed edge (related_node → j)\n",
    "            revenue_related.add(j)\n",
    "            edges.append((related_node, j))  # Directed edge related_node → j\n",
    "        elif graph_matrix[related_node, j] == 1 and graph_matrix[j, related_node] == -1:\n",
    "            # Directed edge (j → related_node)\n",
    "            revenue_related.add(j)\n",
    "            edges.append((j, related_node))  # Directed edge j → related_node\n",
    "        elif graph_matrix[j, related_node] == -1 and graph_matrix[related_node, j] == -1:\n",
    "            # Undirected spouse relationship (related_node — j)\n",
    "            revenue_related.add(j)\n",
    "            edges.append((related_node, j))  # Undirected edge\n",
    "        elif graph_matrix[j, related_node] == 1 and graph_matrix[related_node, j] == 1:\n",
    "            # Bidirectional spouse relationship (related_node ↔ j)\n",
    "            revenue_related.add(j)\n",
    "            edges.append((related_node, j))  # Bidirectional edge\n",
    "\n",
    "# Create a new directed graph containing only the related nodes\n",
    "subgraph = nx.DiGraph()\n",
    "subgraph.add_nodes_from(revenue_related)  # Add nodes\n",
    "subgraph.add_edges_from(edges)           # Add edges\n",
    "\n",
    "# Map node indices to column names for readability\n",
    "node_labels = list(data_encoded.columns)\n",
    "subgraph = nx.relabel_nodes(subgraph, {i: node_labels[i] for i in revenue_related})\n",
    "\n",
    "# Draw the subgraph\n",
    "pos = nx.spring_layout(subgraph)\n",
    "nx.draw(subgraph, pos, with_labels=True, node_size=1000, font_size=10)\n",
    "plt.show()\n"
   ]
  },
  {
   "cell_type": "code",
   "execution_count": null,
   "id": "4a4528c0",
   "metadata": {},
   "outputs": [],
   "source": [
    "labels = columns_to_use\n",
    "\n",
    "# Find all nodes directly connected to 'Revenue'\n",
    "revenue_node = labels.index('Revenue')\n",
    "directly_related_to_revenue = list(G.neighbors(revenue_node))  # Direct neighbors\n",
    "\n",
    "# Find all variables indirectly related to 'Revenue'\n",
    "indirectly_related_to_revenue = nx.single_source_shortest_path_length(G, revenue_node)\n",
    "\n",
    "# Print out the variables most causally related to 'Revenue'\n",
    "print(\"Directly Related to 'Revenue':\")\n",
    "for node in directly_related_to_revenue:\n",
    "    print(labels[node])\n",
    "\n",
    "print(\"\\nIndirectly Related to 'Revenue':\")\n",
    "for node, distance in indirectly_related_to_revenue.items():\n",
    "    if distance > 1:  # Only show indirect relationships (more than 1 step away)\n",
    "        print(f\"{labels[node]} (Distance: {distance})\")"
   ]
  },
  {
   "cell_type": "code",
   "execution_count": null,
   "id": "fb2f8e08",
   "metadata": {},
   "outputs": [],
   "source": [
    "#from dowhy import CausalModel\n",
    "#data_encoded"
   ]
  },
  {
   "cell_type": "code",
   "execution_count": null,
   "id": "8d8b293c",
   "metadata": {},
   "outputs": [],
   "source": [
    "from causallearn.search.ConstraintBased.FCI import fci\n",
    "import pandas as pd\n",
    "import numpy as np"
   ]
  },
  {
   "cell_type": "code",
   "execution_count": null,
   "id": "0b1f2c1d",
   "metadata": {},
   "outputs": [],
   "source": [
    "# Load and preprocess your data\n",
    "\n",
    "data_wow = data_encoded[columns_to_use].dropna()  # Drop missing values\n",
    "\n",
    "# Convert data to numpy array\n",
    "data_np = data_wow.to_numpy()\n",
    "\n",
    "# Specify the conditional independence test\n",
    "independence_test = \"fisherz\"  # Fisher's Z-test for continuous data\n",
    "\n",
    "# Run FCI\n",
    "fci_graph = fci(data_np, independence_test, alpha=0.05)\n",
    "fci_graph, _ = fci_graph"
   ]
  },
  {
   "cell_type": "code",
   "execution_count": null,
   "id": "5478f59d",
   "metadata": {},
   "outputs": [],
   "source": [
    "# Extract the graph structure\n",
    "causal_matrix = fci_graph.graph  # Adjacency matrix\n",
    "labels = columns_to_use\n",
    "\n",
    "# Create a NetworkX graph\n",
    "G = nx.DiGraph()\n",
    "\n",
    "# Add nodes and edges\n",
    "for i in range(len(labels)):\n",
    "    G.add_node(i, label=labels[i])  # Add nodes with labels\n",
    "    for j in range(len(labels)):\n",
    "        if causal_matrix[i, j] != 0:  # Edge exists\n",
    "            if causal_matrix[i, j] == 1:\n",
    "                G.add_edge(i, j)  # Directed edge\n",
    "            elif causal_matrix[i, j] == -1:\n",
    "                G.add_edge(i, j, style=\"bidirectional\")  # Bidirected edge\n",
    "\n",
    "# Create a dictionary for node labels\n",
    "node_labels = {i: labels[i] for i in range(len(labels))}\n",
    "\n",
    "# Use a spring layout for visualization\n",
    "pos = nx.spring_layout(G, seed=42)  # Consistent layout with a random seed\n",
    "\n",
    "# Draw nodes\n",
    "nx.draw_networkx_nodes(G, pos, node_size=1000, node_color=\"skyblue\", alpha=0.9)\n",
    "\n",
    "# Draw edges\n",
    "edges = G.edges(data=True)\n",
    "nx.draw_networkx_edges(\n",
    "    G,\n",
    "    pos,\n",
    "    edgelist=[(u, v) for u, v, d in edges if d.get(\"style\") != \"bidirectional\"],\n",
    "    edge_color=\"black\",\n",
    "    arrows=True,\n",
    "    arrowsize=20,\n",
    ")\n",
    "nx.draw_networkx_edges(\n",
    "    G,\n",
    "    pos,\n",
    "    edgelist=[(u, v) for u, v, d in edges if d.get(\"style\") == \"bidirectional\"],\n",
    "    edge_color=\"red\",\n",
    "    style=\"dashed\",\n",
    ")\n",
    "\n",
    "# Add labels\n",
    "nx.draw_networkx_labels(G, pos, labels=node_labels, font_size=10, font_color=\"black\")\n",
    "\n",
    "# Display the graph\n",
    "plt.title(\"Causal Graph (PAG)\")\n",
    "plt.show()"
   ]
  },
  {
   "cell_type": "code",
   "execution_count": null,
   "id": "16ed8835",
   "metadata": {},
   "outputs": [],
   "source": [
    "data_encoded.columns"
   ]
  },
  {
   "cell_type": "code",
   "execution_count": null,
   "id": "5f538ae3",
   "metadata": {},
   "outputs": [],
   "source": [
    "confounders = [\n",
    "    'BounceRates', 'ExitRates', 'PageValues', 'Weekend', \n",
    "    'Administrative', 'Administrative_Duration', 'Informational', \n",
    "    'Informational_Duration', 'ProductRelated', 'ProductRelated_Duration', \n",
    "    'OperatingSystems', 'Browser', 'Region', 'TrafficType', \n",
    "    'Month_Dec', 'Month_Feb', 'Month_Jul', 'Month_June', \n",
    "    'Month_Mar', 'Month_May', 'Month_Nov', 'Month_Oct', 'Month_Sep', \n",
    "    'VisitorType_Other', 'VisitorType_Returning_Visitor'\n",
    "]"
   ]
  },
  {
   "cell_type": "code",
   "execution_count": null,
   "id": "34bf22f8",
   "metadata": {},
   "outputs": [],
   "source": [
    "model = CausalModel(\n",
    "    data=data_encoded,\n",
    "    treatment='SpecialDay',\n",
    "    outcome='Revenue',\n",
    "    common_causes=confounders  # Add other potential confounders here if available\n",
    ")\n",
    "\n",
    "# Identify causal effect\n",
    "identified_estimand = model.identify_effect()\n",
    "print(identified_estimand)\n",
    "\n",
    "# Estimate the causal effect\n",
    "estimate = model.estimate_effect(identified_estimand, method_name=\"backdoor.linear_regression\")\n",
    "print(estimate)"
   ]
  },
  {
   "cell_type": "code",
   "execution_count": null,
   "id": "4654f9a2",
   "metadata": {},
   "outputs": [],
   "source": []
  }
 ],
 "metadata": {
  "kernelspec": {
   "display_name": "Python 3 (ipykernel)",
   "language": "python",
   "name": "python3"
  },
  "language_info": {
   "codemirror_mode": {
    "name": "ipython",
    "version": 3
   },
   "file_extension": ".py",
   "mimetype": "text/x-python",
   "name": "python",
   "nbconvert_exporter": "python",
   "pygments_lexer": "ipython3",
   "version": "3.9.13"
  }
 },
 "nbformat": 4,
 "nbformat_minor": 5
}
